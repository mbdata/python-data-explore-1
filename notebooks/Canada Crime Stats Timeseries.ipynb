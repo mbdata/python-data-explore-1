{
 "cells": [
  {
   "cell_type": "markdown",
   "metadata": {},
   "source": [
    "# Analysis of incident-based crime statistics"
   ]
  },
  {
   "cell_type": "markdown",
   "metadata": {},
   "source": [
    "### Incident-based crime statistics, by detailed violations\n",
    "Publisher: Current Organization Name: Statistics Canada.<br>\n",
    "Original dataset: https://open.canada.ca/data/en/dataset/be3880f2-0d04-4583-8265-611b231ebce8"
   ]
  },
  {
   "cell_type": "code",
   "execution_count": 1,
   "metadata": {},
   "outputs": [],
   "source": [
    "import os\n",
    "import numpy as np\n",
    "import pandas as pd\n",
    "import matplotlib as mpl \n",
    "import matplotlib.pyplot as plt \n",
    "import seaborn as sns\n",
    "sns.set(style=\"whitegrid\", color_codes=True)\n",
    "%matplotlib inline"
   ]
  },
  {
   "cell_type": "code",
   "execution_count": 4,
   "metadata": {},
   "outputs": [],
   "source": [
    "import zipfile\n",
    "zf = zipfile.ZipFile('..\\data\\crime-stats-canada\\crime-stats-canada-02520051-eng.zip')\n",
    "df = pd.read_csv(zf.open('crime-stats-canada-02520051-eng.csv'))"
   ]
  },
  {
   "cell_type": "code",
   "execution_count": 5,
   "metadata": {},
   "outputs": [
    {
     "name": "stdout",
     "output_type": "stream",
     "text": [
      "2578244\n"
     ]
    },
    {
     "data": {
      "text/html": [
       "<div>\n",
       "<style scoped>\n",
       "    .dataframe tbody tr th:only-of-type {\n",
       "        vertical-align: middle;\n",
       "    }\n",
       "\n",
       "    .dataframe tbody tr th {\n",
       "        vertical-align: top;\n",
       "    }\n",
       "\n",
       "    .dataframe thead th {\n",
       "        text-align: right;\n",
       "    }\n",
       "</style>\n",
       "<table border=\"1\" class=\"dataframe\">\n",
       "  <thead>\n",
       "    <tr style=\"text-align: right;\">\n",
       "      <th></th>\n",
       "      <th>Ref_Date</th>\n",
       "      <th>GEO</th>\n",
       "      <th>VIOLATIONS</th>\n",
       "      <th>STA</th>\n",
       "      <th>Vector</th>\n",
       "      <th>Coordinate</th>\n",
       "      <th>Value</th>\n",
       "    </tr>\n",
       "  </thead>\n",
       "  <tbody>\n",
       "    <tr>\n",
       "      <th>0</th>\n",
       "      <td>1998</td>\n",
       "      <td>Canada</td>\n",
       "      <td>Total, all violations</td>\n",
       "      <td>Actual incidents</td>\n",
       "      <td>v44348247</td>\n",
       "      <td>1.1.1</td>\n",
       "      <td>2688540.00</td>\n",
       "    </tr>\n",
       "    <tr>\n",
       "      <th>1</th>\n",
       "      <td>1999</td>\n",
       "      <td>Canada</td>\n",
       "      <td>Total, all violations</td>\n",
       "      <td>Actual incidents</td>\n",
       "      <td>v44348247</td>\n",
       "      <td>1.1.1</td>\n",
       "      <td>2576445.00</td>\n",
       "    </tr>\n",
       "    <tr>\n",
       "      <th>2</th>\n",
       "      <td>2000</td>\n",
       "      <td>Canada</td>\n",
       "      <td>Total, all violations</td>\n",
       "      <td>Actual incidents</td>\n",
       "      <td>v44348247</td>\n",
       "      <td>1.1.1</td>\n",
       "      <td>2570663.00</td>\n",
       "    </tr>\n",
       "    <tr>\n",
       "      <th>3</th>\n",
       "      <td>2001</td>\n",
       "      <td>Canada</td>\n",
       "      <td>Total, all violations</td>\n",
       "      <td>Actual incidents</td>\n",
       "      <td>v44348247</td>\n",
       "      <td>1.1.1</td>\n",
       "      <td>2602571.00</td>\n",
       "    </tr>\n",
       "    <tr>\n",
       "      <th>4</th>\n",
       "      <td>2002</td>\n",
       "      <td>Canada</td>\n",
       "      <td>Total, all violations</td>\n",
       "      <td>Actual incidents</td>\n",
       "      <td>v44348247</td>\n",
       "      <td>1.1.1</td>\n",
       "      <td>2606967.00</td>\n",
       "    </tr>\n",
       "  </tbody>\n",
       "</table>\n",
       "</div>"
      ],
      "text/plain": [
       "   Ref_Date     GEO             VIOLATIONS               STA     Vector  \\\n",
       "0      1998  Canada  Total, all violations  Actual incidents  v44348247   \n",
       "1      1999  Canada  Total, all violations  Actual incidents  v44348247   \n",
       "2      2000  Canada  Total, all violations  Actual incidents  v44348247   \n",
       "3      2001  Canada  Total, all violations  Actual incidents  v44348247   \n",
       "4      2002  Canada  Total, all violations  Actual incidents  v44348247   \n",
       "\n",
       "  Coordinate       Value  \n",
       "0      1.1.1  2688540.00  \n",
       "1      1.1.1  2576445.00  \n",
       "2      1.1.1  2570663.00  \n",
       "3      1.1.1  2602571.00  \n",
       "4      1.1.1  2606967.00  "
      ]
     },
     "execution_count": 5,
     "metadata": {},
     "output_type": "execute_result"
    }
   ],
   "source": [
    "print len(df)\n",
    "df.head()"
   ]
  },
  {
   "cell_type": "code",
   "execution_count": 5,
   "metadata": {},
   "outputs": [
    {
     "data": {
      "text/html": [
       "<div>\n",
       "<style scoped>\n",
       "    .dataframe tbody tr th:only-of-type {\n",
       "        vertical-align: middle;\n",
       "    }\n",
       "\n",
       "    .dataframe tbody tr th {\n",
       "        vertical-align: top;\n",
       "    }\n",
       "\n",
       "    .dataframe thead th {\n",
       "        text-align: right;\n",
       "    }\n",
       "</style>\n",
       "<table border=\"1\" class=\"dataframe\">\n",
       "  <thead>\n",
       "    <tr style=\"text-align: right;\">\n",
       "      <th></th>\n",
       "      <th>Ref_Date</th>\n",
       "      <th>GEO</th>\n",
       "      <th>VIOLATIONS</th>\n",
       "      <th>STA</th>\n",
       "      <th>Value</th>\n",
       "    </tr>\n",
       "  </thead>\n",
       "  <tbody>\n",
       "    <tr>\n",
       "      <th>2578239</th>\n",
       "      <td>2012</td>\n",
       "      <td>Nunavut</td>\n",
       "      <td>Other federal statutes</td>\n",
       "      <td>Rate, youth not charged per 100,000 population...</td>\n",
       "      <td>26.06</td>\n",
       "    </tr>\n",
       "    <tr>\n",
       "      <th>2578240</th>\n",
       "      <td>2013</td>\n",
       "      <td>Nunavut</td>\n",
       "      <td>Other federal statutes</td>\n",
       "      <td>Rate, youth not charged per 100,000 population...</td>\n",
       "      <td>0.00</td>\n",
       "    </tr>\n",
       "    <tr>\n",
       "      <th>2578241</th>\n",
       "      <td>2014</td>\n",
       "      <td>Nunavut</td>\n",
       "      <td>Other federal statutes</td>\n",
       "      <td>Rate, youth not charged per 100,000 population...</td>\n",
       "      <td>0.00</td>\n",
       "    </tr>\n",
       "    <tr>\n",
       "      <th>2578242</th>\n",
       "      <td>2015</td>\n",
       "      <td>Nunavut</td>\n",
       "      <td>Other federal statutes</td>\n",
       "      <td>Rate, youth not charged per 100,000 population...</td>\n",
       "      <td>53.04</td>\n",
       "    </tr>\n",
       "    <tr>\n",
       "      <th>2578243</th>\n",
       "      <td>2016</td>\n",
       "      <td>Nunavut</td>\n",
       "      <td>Other federal statutes</td>\n",
       "      <td>Rate, youth not charged per 100,000 population...</td>\n",
       "      <td>0.00</td>\n",
       "    </tr>\n",
       "  </tbody>\n",
       "</table>\n",
       "</div>"
      ],
      "text/plain": [
       "         Ref_Date      GEO              VIOLATIONS  \\\n",
       "2578239      2012  Nunavut  Other federal statutes   \n",
       "2578240      2013  Nunavut  Other federal statutes   \n",
       "2578241      2014  Nunavut  Other federal statutes   \n",
       "2578242      2015  Nunavut  Other federal statutes   \n",
       "2578243      2016  Nunavut  Other federal statutes   \n",
       "\n",
       "                                                       STA  Value  \n",
       "2578239  Rate, youth not charged per 100,000 population...  26.06  \n",
       "2578240  Rate, youth not charged per 100,000 population...   0.00  \n",
       "2578241  Rate, youth not charged per 100,000 population...   0.00  \n",
       "2578242  Rate, youth not charged per 100,000 population...  53.04  \n",
       "2578243  Rate, youth not charged per 100,000 population...   0.00  "
      ]
     },
     "execution_count": 5,
     "metadata": {},
     "output_type": "execute_result"
    }
   ],
   "source": [
    "df.drop(['Vector','Coordinate'], axis=1, inplace=True)\n",
    "df.tail()"
   ]
  },
  {
   "cell_type": "code",
   "execution_count": 25,
   "metadata": {},
   "outputs": [
    {
     "data": {
      "text/plain": [
       "STA\n",
       "Actual incidents                                                             184601\n",
       "Cleared by charge                                                            184601\n",
       "Cleared otherwise                                                            184597\n",
       "Percentage change in rate                                                    178820\n",
       "Rate per 100,000 population                                                  184601\n",
       "Rate, adult charged per 100,000 population aged 18 years and over            184597\n",
       "Rate, total persons charged per 100,000 population aged 12 years and over    184597\n",
       "Rate, youth charged per 100,000 population aged 12 to 17 years               184597\n",
       "Rate, youth not charged per 100,000 population aged 12 to 17 years           184412\n",
       "Total cleared                                                                184601\n",
       "Total, adult charged                                                         184601\n",
       "Total, persons charged                                                       184601\n",
       "Total, youth charged                                                         184597\n",
       "Total, youth not charged                                                     184421\n",
       "dtype: int64"
      ]
     },
     "execution_count": 25,
     "metadata": {},
     "output_type": "execute_result"
    }
   ],
   "source": [
    "df.groupby('STA').size()"
   ]
  },
  {
   "cell_type": "code",
   "execution_count": 7,
   "metadata": {},
   "outputs": [
    {
     "data": {
      "text/plain": [
       "GEO\n",
       "Abbotsford-Mission, British Columbia     51198\n",
       "Alberta                                  56721\n",
       "Barrie, Ontario                          39303\n",
       "Brantford, Ontario                       39238\n",
       "British Columbia                         56711\n",
       "Calgary, Alberta                         56556\n",
       "Canada                                   56750\n",
       "Edmonton, Alberta                        56446\n",
       "Greater Sudbury, Ontario                 55283\n",
       "Guelph, Ontario                          38653\n",
       "Halifax, Nova Scotia                     56376\n",
       "Hamilton, Ontario                        56461\n",
       "Kelowna, British Columbia                39303\n",
       "Kingston, Ontario                        50128\n",
       "Kitchener-Cambridge-Waterloo, Ontario    54837\n",
       "London, Ontario                          56211\n",
       "Manitoba                                 56615\n",
       "Moncton, New Brunswick                   39030\n",
       "Montr�al, Quebec                         56714\n",
       "New Brunswick                            56475\n",
       "Newfoundland and Labrador                56426\n",
       "Northwest Territories                    56079\n",
       "Nova Scotia                              56642\n",
       "Nunavut                                  54470\n",
       "Ontario                                  56742\n",
       "Ottawa-Gatineau, Ontario part            56137\n",
       "Ottawa-Gatineau, Ontario/Quebec          56253\n",
       "Ottawa-Gatineau, Quebec part             55586\n",
       "Peterborough, Ontario                    38887\n",
       "Prince Edward Island                     55942\n",
       "Quebec                                   56741\n",
       "Qu�bec, Quebec                           56426\n",
       "Regina, Saskatchewan                     56173\n",
       "Saguenay, Quebec                         54881\n",
       "Saint John, New Brunswick                55896\n",
       "Saskatchewan                             56618\n",
       "Saskatoon, Saskatchewan                  56285\n",
       "Sherbrooke, Quebec                       54280\n",
       "St. John's, Newfoundland and Labrador    54802\n",
       "St.Catharines-Niagara, Ontario           55089\n",
       "Thunder Bay, Ontario                     55385\n",
       "Toronto, Ontario                         56687\n",
       "Trois-Rivi�res, Quebec                   55000\n",
       "Vancouver, British Columbia              56679\n",
       "Victoria, British Columbia               56439\n",
       "Windsor, Ontario                         56335\n",
       "Winnipeg, Manitoba                       56291\n",
       "Yukon                                    56064\n",
       "dtype: int64"
      ]
     },
     "execution_count": 7,
     "metadata": {},
     "output_type": "execute_result"
    }
   ],
   "source": [
    "df.groupby('GEO').size()"
   ]
  },
  {
   "cell_type": "code",
   "execution_count": 16,
   "metadata": {},
   "outputs": [
    {
     "data": {
      "text/plain": [
       "VIOLATIONS\n",
       "Abduction under age 14, by parent or guardian                                        11655\n",
       "Abduction under the age 14 contravening a custody order                              11888\n",
       "Abduction under the age 14, not parent or guardian                                   11943\n",
       "Abduction under the age 16                                                           11594\n",
       "Advertising sexual services                                                           3360\n",
       "Advocating genocide                                                                   7408\n",
       "Advocating/Promoting terrorism offence                                                3360\n",
       "All other Criminal Code (includes Part XII.1 Criminal Code)                          12089\n",
       "Altering, removing or destroying Vehicle Identification Number (VIN)                  7392\n",
       "Anal intercourse                                                                     10684\n",
       "Arson                                                                                12115\n",
       "Arson, disregard for human life                                                      12048\n",
       "Assault, level 1                                                                     12115\n",
       "Assault, level 2, weapon or bodily harm                                              12115\n",
       "Assault, level 3, aggravated                                                         12114\n",
       "Attempted murder                                                                     12021\n",
       "Attempts, conspiracies, accessories (Part XIII Criminal Code)                        12083\n",
       "Bankruptcy Act                                                                       11852\n",
       "Bawdy house                                                                          11104\n",
       "Bestiality, commit or compel person                                                   7392\n",
       "Betting house                                                                         9685\n",
       "Breach of probation                                                                  12115\n",
       "Break and enter to steal a firearm from a motor vehicle                               7392\n",
       "Breaking and entering                                                                12115\n",
       "Breaking and entering to steal a firearm                                              7392\n",
       "Canada Health Act                                                                    12065\n",
       "Canada Shipping Act                                                                  11791\n",
       "Cannabis, importation and exportation                                                11937\n",
       "Cannabis, production                                                                 12102\n",
       "Cannabis, trafficking                                                                12115\n",
       "                                                                                     ...  \n",
       "Total possession of stolen property                                                  12115\n",
       "Total property crime violations                                                      12115\n",
       "Total prostitution                                                                   12063\n",
       "Total robbery                                                                        12115\n",
       "Total sexual violations against children                                             11792\n",
       "Total theft of motor vehicle                                                         12115\n",
       "Total theft over $5,000 (non-motor vehicle)                                          12115\n",
       "Total theft under $5,000 (non-motor vehicle)                                         12115\n",
       "Total trafficking in stolen property                                                  7392\n",
       "Total violent Criminal Code violations                                               12115\n",
       "Total weapons violations                                                             12115\n",
       "Total, all Criminal Code violations (excluding traffic)                              12115\n",
       "Total, all Criminal Code violations (including traffic)                              12115\n",
       "Total, all violations                                                                12115\n",
       "Total, possession, other Controlled Drugs and Substances Act drugs                   12115\n",
       "Trafficking in persons                                                                7847\n",
       "Trap likely to or causing bodily harm                                                 7392\n",
       "Trespass at night                                                                    12115\n",
       "Unauthorized importing or exporting of weapons                                       11839\n",
       "Unauthorized recording of a movie                                                     7392\n",
       "Unlawfully causing bodily harm                                                       11924\n",
       "Unsafe storage of firearms                                                           12114\n",
       "Using firearm in commission of offence                                               12097\n",
       "Utter threats to property or animal                                                   8230\n",
       "Uttering threats                                                                     12115\n",
       "Voyeurism                                                                             8452\n",
       "Weapons possession contrary to order                                                 12081\n",
       "Weapons trafficking                                                                  11839\n",
       "Willful and forbidden acts in respect of certain property (Part XI Criminal Code)    12115\n",
       "Youth Criminal Justice Act                                                           12115\n",
       "Length: 257, dtype: int64"
      ]
     },
     "execution_count": 16,
     "metadata": {},
     "output_type": "execute_result"
    }
   ],
   "source": [
    "df.groupby('VIOLATIONS').size().head()"
   ]
  },
  {
   "cell_type": "code",
   "execution_count": 8,
   "metadata": {},
   "outputs": [
    {
     "data": {
      "text/plain": [
       "Ref_Date\n",
       "1998     85547\n",
       "1999     89186\n",
       "2000     94893\n",
       "2001     99359\n",
       "2002    101831\n",
       "2003    102977\n",
       "2004    105218\n",
       "2005    119777\n",
       "2006    152544\n",
       "2007    152544\n",
       "2008    152544\n",
       "2009    152544\n",
       "2010    152544\n",
       "2011    152544\n",
       "2012    173376\n",
       "2013    173376\n",
       "2014    173376\n",
       "2015    172032\n",
       "2016    172032\n",
       "dtype: int64"
      ]
     },
     "execution_count": 8,
     "metadata": {},
     "output_type": "execute_result"
    }
   ],
   "source": [
    "df.groupby('Ref_Date').size()"
   ]
  }
 ],
 "metadata": {
  "kernelspec": {
   "display_name": "Python 2",
   "language": "python",
   "name": "python2"
  },
  "language_info": {
   "codemirror_mode": {
    "name": "ipython",
    "version": 2
   },
   "file_extension": ".py",
   "mimetype": "text/x-python",
   "name": "python",
   "nbconvert_exporter": "python",
   "pygments_lexer": "ipython2",
   "version": "2.7.14"
  }
 },
 "nbformat": 4,
 "nbformat_minor": 2
}
